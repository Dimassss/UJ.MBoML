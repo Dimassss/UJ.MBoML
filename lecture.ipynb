{
 "cells": [
  {
   "cell_type": "markdown",
   "metadata": {},
   "source": [
    "# Task 1"
   ]
  },
  {
   "cell_type": "markdown",
   "metadata": {
    "collapsed": true
   },
   "source": [
    "Using data from the infmort file, create models to explain whether a country exports oil. \n",
    "Train classifier neural networks with one hidden layer containing different numbers of hidden nodes respectively.\n",
    "Present 'confusion matrix' with coefficient f1 and percentage of successful prediction. Create a validation curve depending on the number of layers used. Which model is the most effective? Compare it with logistic regression."
   ]
  },
  {
   "cell_type": "code",
   "execution_count": null,
   "metadata": {},
   "outputs": [],
   "source": []
  },
  {
   "cell_type": "markdown",
   "metadata": {},
   "source": [
    "# Task 2"
   ]
  },
  {
   "cell_type": "markdown",
   "metadata": {
    "collapsed": true
   },
   "source": [
    "Using data from the chredlin file, create models that explain in which part of Chicago a given house is located. \n",
    "Train classifier neural networks with one hidden layer containing different numbers of hidden nodes respectively.\n",
    "Present  'confusion matrix' coefficient f1, percentage of successful prediction.  Create a validation curve depending on the number of layers used. Which model is the most effective? Compare it with logistic regression."
   ]
  },
  {
   "cell_type": "code",
   "execution_count": null,
   "metadata": {},
   "outputs": [],
   "source": []
  },
  {
   "cell_type": "markdown",
   "metadata": {},
   "source": [
    "# Task 3"
   ]
  },
  {
   "cell_type": "markdown",
   "metadata": {
    "collapsed": true
   },
   "source": [
    "Using data from the wbca file, create models to explain whether a patient has malignant breast cancer.\n",
    "Train classifier neural networks with one hidden layer containing different numbers of hidden nodes, respectively.\n",
    "Present 'confusion matrix' f1 coefficient, percentage of successful prediction. Which model is the most effective? Compare it with logistic regression."
   ]
  },
  {
   "cell_type": "code",
   "execution_count": null,
   "metadata": {},
   "outputs": [],
   "source": []
  },
  {
   "cell_type": "markdown",
   "metadata": {},
   "source": [
    "# Task 4"
   ]
  },
  {
   "cell_type": "markdown",
   "metadata": {},
   "source": [
    "Korzystając ze znanych danych dotyczących Titanica stwórz najlepszy model w oparciu o obecną wiedzę.\n",
    "\n",
    "Using known data on the Titanic, train the best neutral network and compare it with your model from Task 6.1. "
   ]
  },
  {
   "cell_type": "code",
   "execution_count": null,
   "metadata": {},
   "outputs": [],
   "source": []
  },
  {
   "cell_type": "code",
   "execution_count": null,
   "metadata": {},
   "outputs": [],
   "source": []
  }
 ],
 "metadata": {
  "kernelspec": {
   "display_name": "Python 3 (ipykernel)",
   "language": "python",
   "name": "python3"
  },
  "language_info": {
   "codemirror_mode": {
    "name": "ipython",
    "version": 3
   },
   "file_extension": ".py",
   "mimetype": "text/x-python",
   "name": "python",
   "nbconvert_exporter": "python",
   "pygments_lexer": "ipython3",
   "version": "3.9.12"
  }
 },
 "nbformat": 4,
 "nbformat_minor": 2
}
